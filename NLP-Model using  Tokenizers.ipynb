{
 "cells": [
  {
   "cell_type": "code",
   "execution_count": 1,
   "metadata": {
    "colab": {},
    "colab_type": "code",
    "executionInfo": {
     "elapsed": 1489,
     "status": "ok",
     "timestamp": 1592418612194,
     "user": {
      "displayName": "Varun Magotra",
      "photoUrl": "https://lh3.googleusercontent.com/a-/AOh14Gg1rDl7taw8ZjxP85_rznRhegd3wpoNzXC8jES5=s64",
      "userId": "05615579908340934188"
     },
     "user_tz": -330
    },
    "id": "niGxPMlLUtCB"
   },
   "outputs": [],
   "source": [
    "import numpy as np\n",
    "import pandas as pd\n",
    "from nltk.corpus import stopwords\n",
    "from nltk.cluster.util import cosine_distance\n",
    "import networkx as nx"
   ]
  },
  {
   "cell_type": "code",
   "execution_count": 5,
   "metadata": {
    "colab": {},
    "colab_type": "code",
    "executionInfo": {
     "elapsed": 1180,
     "status": "ok",
     "timestamp": 1592418612196,
     "user": {
      "displayName": "Varun Magotra",
      "photoUrl": "https://lh3.googleusercontent.com/a-/AOh14Gg1rDl7taw8ZjxP85_rznRhegd3wpoNzXC8jES5=s64",
      "userId": "05615579908340934188"
     },
     "user_tz": -330
    },
    "id": "twlxb1tHUtCK"
   },
   "outputs": [],
   "source": [
    "path_to_dataset='/home/varun/Desktop/NLP-Hamlet by William Shakespeare.TXT'"
   ]
  },
  {
   "cell_type": "code",
   "execution_count": 6,
   "metadata": {
    "colab": {},
    "colab_type": "code",
    "executionInfo": {
     "elapsed": 789,
     "status": "ok",
     "timestamp": 1592418612197,
     "user": {
      "displayName": "Varun Magotra",
      "photoUrl": "https://lh3.googleusercontent.com/a-/AOh14Gg1rDl7taw8ZjxP85_rznRhegd3wpoNzXC8jES5=s64",
      "userId": "05615579908340934188"
     },
     "user_tz": -330
    },
    "id": "zMAWnIS1UtCT"
   },
   "outputs": [],
   "source": [
    "text=open(path_to_dataset,'r').read()\n",
    "text=text.lower()\n",
    "sen=list(text.split(\" \"))"
   ]
  },
  {
   "cell_type": "code",
   "execution_count": 7,
   "metadata": {
    "colab": {},
    "colab_type": "code",
    "executionInfo": {
     "elapsed": 1170,
     "status": "ok",
     "timestamp": 1592418612982,
     "user": {
      "displayName": "Varun Magotra",
      "photoUrl": "https://lh3.googleusercontent.com/a-/AOh14Gg1rDl7taw8ZjxP85_rznRhegd3wpoNzXC8jES5=s64",
      "userId": "05615579908340934188"
     },
     "user_tz": -330
    },
    "id": "o98qeA6sUtCa"
   },
   "outputs": [],
   "source": [
    "stopwords = [ \"a\", \"about\", \"above\", \"after\", \"again\", \"against\", \"all\", \"am\", \"an\", \"and\", \"any\", \"are\", \"as\", \"at\", \"be\", \"because\", \"been\", \"before\", \"being\", \"below\", \"between\", \"both\", \"but\", \"by\", \"could\", \"did\", \"do\", \"does\", \"doing\", \"down\", \"during\", \"each\", \"few\", \"for\", \"from\", \"further\", \"had\", \"has\", \"have\", \"having\", \"he\", \"he'd\", \"he'll\", \"he's\", \"her\", \"here\", \"here's\", \"hers\", \"herself\", \"him\", \"himself\", \"his\", \"how\", \"how's\", \"i\", \"i'd\", \"i'll\", \"i'm\", \"i've\", \"if\", \"in\", \"into\", \"is\", \"it\", \"it's\", \"its\", \"itself\", \"let's\", \"me\", \"more\", \"most\", \"my\", \"myself\", \"nor\", \"of\", \"on\", \"once\", \"only\", \"or\", \"other\", \"ought\", \"our\", \"ours\", \"ourselves\", \"out\", \"over\", \"own\", \"same\", \"she\", \"she'd\", \"she'll\", \"she's\", \"should\", \"so\", \"some\", \"such\", \"than\", \"that\", \"that's\", \"the\", \"their\", \"theirs\", \"them\", \"themselves\", \"then\", \"there\", \"there's\", \"these\", \"they\", \"they'd\", \"they'll\", \"they're\", \"they've\", \"this\", \"those\", \"through\", \"to\", \"too\", \"under\", \"until\", \"up\", \"very\", \"was\", \"we\", \"we'd\", \"we'll\", \"we're\", \"we've\", \"were\", \"what\", \"what's\", \"when\", \"when's\", \"where\", \"where's\", \"which\", \"while\", \"who\", \"who's\", \"whom\", \"why\", \"why's\", \"with\", \"would\", \"you\", \"you'd\", \"you'll\", \"you're\", \"you've\", \"your\", \"yours\", \"yourself\", \"yourselves\" ] \n"
   ]
  },
  {
   "cell_type": "code",
   "execution_count": 8,
   "metadata": {
    "colab": {},
    "colab_type": "code",
    "executionInfo": {
     "elapsed": 1413,
     "status": "ok",
     "timestamp": 1592418613581,
     "user": {
      "displayName": "Varun Magotra",
      "photoUrl": "https://lh3.googleusercontent.com/a-/AOh14Gg1rDl7taw8ZjxP85_rznRhegd3wpoNzXC8jES5=s64",
      "userId": "05615579908340934188"
     },
     "user_tz": -330
    },
    "id": "7wCBwXQbUtCe"
   },
   "outputs": [],
   "source": [
    "sentences=[]\n",
    "for word in stopwords:\n",
    "    token = \" \" + word + \" \"\n",
    "    text = text.replace(token, \" \")\n",
    "    text = text.replace(\"  \", \" \")\n",
    "sentences.append(text)"
   ]
  },
  {
   "cell_type": "code",
   "execution_count": 9,
   "metadata": {
    "colab": {},
    "colab_type": "code",
    "executionInfo": {
     "elapsed": 1354,
     "status": "ok",
     "timestamp": 1592420130549,
     "user": {
      "displayName": "Varun Magotra",
      "photoUrl": "https://lh3.googleusercontent.com/a-/AOh14Gg1rDl7taw8ZjxP85_rznRhegd3wpoNzXC8jES5=s64",
      "userId": "05615579908340934188"
     },
     "user_tz": -330
    },
    "id": "RXpo7HpUUtCq"
   },
   "outputs": [],
   "source": [
    "# print(sentences[:1000])\n"
   ]
  },
  {
   "cell_type": "code",
   "execution_count": 10,
   "metadata": {
    "colab": {},
    "colab_type": "code",
    "executionInfo": {
     "elapsed": 1380,
     "status": "ok",
     "timestamp": 1592418614290,
     "user": {
      "displayName": "Varun Magotra",
      "photoUrl": "https://lh3.googleusercontent.com/a-/AOh14Gg1rDl7taw8ZjxP85_rznRhegd3wpoNzXC8jES5=s64",
      "userId": "05615579908340934188"
     },
     "user_tz": -330
    },
    "id": "WkADJ1OHUtCv"
   },
   "outputs": [],
   "source": [
    "from tensorflow.keras.preprocessing.text import Tokenizer\n",
    "from tensorflow.keras.preprocessing.sequence import pad_sequences"
   ]
  },
  {
   "cell_type": "code",
   "execution_count": 11,
   "metadata": {
    "colab": {
     "base_uri": "https://localhost:8080/",
     "height": 1000
    },
    "colab_type": "code",
    "executionInfo": {
     "elapsed": 1082,
     "status": "ok",
     "timestamp": 1592418614292,
     "user": {
      "displayName": "Varun Magotra",
      "photoUrl": "https://lh3.googleusercontent.com/a-/AOh14Gg1rDl7taw8ZjxP85_rznRhegd3wpoNzXC8jES5=s64",
      "userId": "05615579908340934188"
     },
     "user_tz": -330
    },
    "id": "RtlfQvcpUtCy",
    "outputId": "ea83ff0c-9901-4fc3-adc3-691853080232"
   },
   "outputs": [
    {
     "data": {
      "text/plain": [
       "{'<OOV>': 1,\n",
       " 'ham': 2,\n",
       " 'not': 3,\n",
       " 'and': 4,\n",
       " 'lord': 5,\n",
       " 'haue': 6,\n",
       " 'king': 7,\n",
       " 'the': 8,\n",
       " 'will': 9,\n",
       " 'that': 10,\n",
       " 'no': 11,\n",
       " 'you': 12,\n",
       " 'to': 13,\n",
       " 'it': 14,\n",
       " 'i': 15,\n",
       " 'shall': 16,\n",
       " 'hamlet': 17,\n",
       " 'come': 18,\n",
       " 'thou': 19,\n",
       " 'good': 20,\n",
       " 'hor': 21,\n",
       " 'now': 22,\n",
       " 'let': 23,\n",
       " 'this': 24,\n",
       " 'thy': 25,\n",
       " 'may': 26,\n",
       " 'me': 27,\n",
       " 'enter': 28,\n",
       " 'for': 29,\n",
       " 'like': 30,\n",
       " 'him': 31,\n",
       " 'but': 32,\n",
       " 'oh': 33,\n",
       " 'a': 34,\n",
       " 'so': 35,\n",
       " 'well': 36,\n",
       " 'as': 37,\n",
       " 'know': 38,\n",
       " 'of': 39,\n",
       " 'selfe': 40,\n",
       " 'loue': 41,\n",
       " \"'tis\": 42,\n",
       " 'vs': 43,\n",
       " 'sir': 44,\n",
       " 'qu': 45,\n",
       " 'must': 46,\n",
       " 'laer': 47,\n",
       " 'giue': 48,\n",
       " 'one': 49,\n",
       " 'thee': 50,\n",
       " 'ile': 51,\n",
       " 'in': 52,\n",
       " 'hath': 53,\n",
       " 'ophe': 54,\n",
       " 'with': 55,\n",
       " 'make': 56,\n",
       " 'speake': 57,\n",
       " 'time': 58,\n",
       " 'is': 59,\n",
       " 'see': 60,\n",
       " 'father': 61,\n",
       " 'say': 62,\n",
       " 'vpon': 63,\n",
       " 'doe': 64,\n",
       " 'go': 65,\n",
       " 'pol': 66,\n",
       " 'man': 67,\n",
       " 'heere': 68,\n",
       " 'tell': 69,\n",
       " 'heauen': 70,\n",
       " 'mine': 71,\n",
       " 'thus': 72,\n",
       " 'play': 73,\n",
       " 'much': 74,\n",
       " 'rosin': 75,\n",
       " 'then': 76,\n",
       " 'thinke': 77,\n",
       " 'can': 78,\n",
       " 'or': 79,\n",
       " 'horatio': 80,\n",
       " 'mother': 81,\n",
       " 'o': 82,\n",
       " 'queene': 83,\n",
       " 'if': 84,\n",
       " 'night': 85,\n",
       " 'my': 86,\n",
       " 'polon': 87,\n",
       " 'yet': 88,\n",
       " 'project': 89,\n",
       " 'vp': 90,\n",
       " 'death': 91,\n",
       " 'there': 92,\n",
       " 'take': 93,\n",
       " 'all': 94,\n",
       " 'be': 95,\n",
       " 'he': 96,\n",
       " 'laertes': 97,\n",
       " 'what': 98,\n",
       " 'againe': 99,\n",
       " 'etext': 100,\n",
       " 'made': 101,\n",
       " \"th'\": 102,\n",
       " 'soule': 103,\n",
       " 'life': 104,\n",
       " 'might': 105,\n",
       " 'them': 106,\n",
       " 'heare': 107,\n",
       " 'mar': 108,\n",
       " 'looke': 109,\n",
       " 'owne': 110,\n",
       " 'away': 111,\n",
       " 'heart': 112,\n",
       " 'dead': 113,\n",
       " 'his': 114,\n",
       " 'which': 115,\n",
       " 'on': 116,\n",
       " 'your': 117,\n",
       " 'clo': 118,\n",
       " 'day': 119,\n",
       " 'when': 120,\n",
       " 'cannot': 121,\n",
       " 'hast': 122,\n",
       " 'downe': 123,\n",
       " 'pray': 124,\n",
       " 'ophelia': 125,\n",
       " 'first': 126,\n",
       " 'gutenberg': 127,\n",
       " 'more': 128,\n",
       " 'nay': 129,\n",
       " 'out': 130,\n",
       " 'nothing': 131,\n",
       " 'whose': 132,\n",
       " 'doth': 133,\n",
       " 'leaue': 134,\n",
       " 'indeed': 135,\n",
       " 'world': 136,\n",
       " 'hold': 137,\n",
       " 'thing': 138,\n",
       " 'god': 139,\n",
       " 'head': 140,\n",
       " 'matter': 141,\n",
       " 'how': 142,\n",
       " 'within': 143,\n",
       " 'too': 144,\n",
       " 'we': 145,\n",
       " 'set': 146,\n",
       " 'nature': 147,\n",
       " 'neuer': 148,\n",
       " 'by': 149,\n",
       " 'two': 150,\n",
       " 'why': 151,\n",
       " 'other': 152,\n",
       " 'though': 153,\n",
       " 'put': 154,\n",
       " 'comes': 155,\n",
       " 'done': 156,\n",
       " 'exeunt': 157,\n",
       " 'call': 158,\n",
       " 'true': 159,\n",
       " 'sweet': 160,\n",
       " 'are': 161,\n",
       " 'england': 162,\n",
       " 'ghost': 163,\n",
       " 'euen': 164,\n",
       " 'earth': 165,\n",
       " 'feare': 166,\n",
       " 'madnesse': 167,\n",
       " 'mad': 168,\n",
       " 'till': 169,\n",
       " 'end': 170,\n",
       " 'still': 171,\n",
       " 'words': 172,\n",
       " 'great': 173,\n",
       " 'off': 174,\n",
       " 'seene': 175,\n",
       " 'eyes': 176,\n",
       " 'faire': 177,\n",
       " 'denmarke': 178,\n",
       " \"o're\": 179,\n",
       " 'polonius': 180,\n",
       " 'deere': 181,\n",
       " 'fathers': 182,\n",
       " 'sonne': 183,\n",
       " 'poore': 184,\n",
       " 'himselfe': 185,\n",
       " 'follow': 186,\n",
       " 'her': 187,\n",
       " 'guild': 188,\n",
       " 'get': 189,\n",
       " 'do': 190,\n",
       " 'they': 191,\n",
       " 'part': 192,\n",
       " 'long': 193,\n",
       " 'friends': 194,\n",
       " 'hand': 195,\n",
       " 'shew': 196,\n",
       " \"i'th'\": 197,\n",
       " 'meanes': 198,\n",
       " 'players': 199,\n",
       " 'please': 200,\n",
       " 'many': 201,\n",
       " 'exit': 202,\n",
       " 'hee': 203,\n",
       " 'osr': 204,\n",
       " 'welcome': 205,\n",
       " 'etexts': 206,\n",
       " 'since': 207,\n",
       " 'better': 208,\n",
       " 'liue': 209,\n",
       " 'beleeue': 210,\n",
       " 'old': 211,\n",
       " 'thoughts': 212,\n",
       " 'would': 213,\n",
       " 'eare': 214,\n",
       " 'both': 215,\n",
       " 'keepe': 216,\n",
       " 'goe': 217,\n",
       " 'guildensterne': 218,\n",
       " 'stand': 219,\n",
       " 'where': 220,\n",
       " 'art': 221,\n",
       " 'who': 222,\n",
       " 'noble': 223,\n",
       " 'body': 224,\n",
       " 'bee': 225,\n",
       " 'daughter': 226,\n",
       " 'speech': 227,\n",
       " 'makes': 228,\n",
       " 'sword': 229,\n",
       " 'free': 230,\n",
       " 'therefore': 231,\n",
       " 'last': 232,\n",
       " 'things': 233,\n",
       " 'without': 234,\n",
       " 'farewell': 235,\n",
       " 'kin': 236,\n",
       " 'ere': 237,\n",
       " 'marry': 238,\n",
       " 'betweene': 239,\n",
       " 'at': 240,\n",
       " 'something': 241,\n",
       " 'purpose': 242,\n",
       " 'cause': 243,\n",
       " 'word': 244,\n",
       " 'best': 245,\n",
       " 'watch': 246,\n",
       " \"ha's\": 247,\n",
       " 'question': 248,\n",
       " 'thought': 249,\n",
       " 'was': 250,\n",
       " 'heard': 251,\n",
       " 'spirit': 252,\n",
       " 'eye': 253,\n",
       " 'thine': 254,\n",
       " 'tongue': 255,\n",
       " 'drinke': 256,\n",
       " 'youth': 257,\n",
       " 'sent': 258,\n",
       " 'graue': 259,\n",
       " 'rest': 260,\n",
       " 'right': 261,\n",
       " 'way': 262,\n",
       " 'bed': 263,\n",
       " 'marke': 264,\n",
       " 'gone': 265,\n",
       " 'state': 266,\n",
       " \"is't\": 267,\n",
       " 'goes': 268,\n",
       " 'fortinbras': 269,\n",
       " 'vse': 270,\n",
       " 'grace': 271,\n",
       " 'euer': 272,\n",
       " 'finde': 273,\n",
       " 'gertrude': 274,\n",
       " 'beare': 275,\n",
       " 'little': 276,\n",
       " 'breath': 277,\n",
       " \"wee'l\": 278,\n",
       " 'saw': 279,\n",
       " 'beene': 280,\n",
       " 'none': 281,\n",
       " 'vertue': 282,\n",
       " 'else': 283,\n",
       " 'said': 284,\n",
       " 'reynol': 285,\n",
       " 'from': 286,\n",
       " 'errors': 287,\n",
       " 'forme': 288,\n",
       " 'did': 289,\n",
       " 'ayre': 290,\n",
       " 'farre': 291,\n",
       " 'selues': 292,\n",
       " 'reason': 293,\n",
       " 'friend': 294,\n",
       " 'madam': 295,\n",
       " 'remember': 296,\n",
       " 'faith': 297,\n",
       " 'gentlemen': 298,\n",
       " 'foule': 299,\n",
       " 'winde': 300,\n",
       " 'meane': 301,\n",
       " 'bring': 302,\n",
       " 'fit': 303,\n",
       " 'blood': 304,\n",
       " 'helpe': 305,\n",
       " 'an': 306,\n",
       " 'these': 307,\n",
       " 'our': 308,\n",
       " 'such': 309,\n",
       " 'second': 310,\n",
       " 'answer': 311,\n",
       " 'together': 312,\n",
       " 'honest': 313,\n",
       " 'stay': 314,\n",
       " \"in't\": 315,\n",
       " 'fire': 316,\n",
       " 'newes': 317,\n",
       " 'kinde': 318,\n",
       " 'excellent': 319,\n",
       " 'sleepe': 320,\n",
       " 'reuenge': 321,\n",
       " 'villaine': 322,\n",
       " 'ha': 323,\n",
       " 'passion': 324,\n",
       " 'rosincrance': 325,\n",
       " 'dost': 326,\n",
       " 'verie': 327,\n",
       " 'three': 328,\n",
       " 'small': 329,\n",
       " 'name': 330,\n",
       " 'barn': 331,\n",
       " 'marcellus': 332,\n",
       " 'men': 333,\n",
       " 'while': 334,\n",
       " 'peace': 335,\n",
       " 'full': 336,\n",
       " 'voyce': 337,\n",
       " 'oft': 338,\n",
       " 'greefe': 339,\n",
       " \"'twere\": 340,\n",
       " 'late': 341,\n",
       " 'businesse': 342,\n",
       " 'doubt': 343,\n",
       " 'alone': 344,\n",
       " 'minde': 345,\n",
       " 'heauens': 346,\n",
       " 'face': 347,\n",
       " 'hell': 348,\n",
       " 'ye': 349,\n",
       " 'iudgement': 350,\n",
       " 'giuen': 351,\n",
       " 'command': 352,\n",
       " 'action': 353,\n",
       " 'murther': 354,\n",
       " 'guil': 355,\n",
       " 'lady': 356,\n",
       " 'fortune': 357,\n",
       " 'mee': 358,\n",
       " 'pyrrhus': 359,\n",
       " 'tragedie': 360,\n",
       " 'copyright': 361,\n",
       " 'sure': 362,\n",
       " 'note': 363,\n",
       " 'letters': 364,\n",
       " 'thousand': 365,\n",
       " 'print': 366,\n",
       " 'barnardo': 367,\n",
       " 'fran': 368,\n",
       " 'common': 369,\n",
       " 'another': 370,\n",
       " 'thankes': 371,\n",
       " 'goodnight': 372,\n",
       " 'eares': 373,\n",
       " 'breake': 374,\n",
       " 'hora': 375,\n",
       " 'once': 376,\n",
       " 'strange': 377,\n",
       " 'young': 378,\n",
       " 'walke': 379,\n",
       " 'brothers': 380,\n",
       " 'nor': 381,\n",
       " 'seeme': 382,\n",
       " 'fellow': 383,\n",
       " 'act': 384,\n",
       " 'hands': 385,\n",
       " 'armes': 386,\n",
       " 'deare': 387,\n",
       " 'neere': 388,\n",
       " 'phrase': 389,\n",
       " 'draw': 390,\n",
       " 'gho': 391,\n",
       " 'alas': 392,\n",
       " 'most': 393,\n",
       " 'offence': 394,\n",
       " 'sweare': 395,\n",
       " 'worke': 396,\n",
       " 'gentleman': 397,\n",
       " 'fine': 398,\n",
       " 'look': 399,\n",
       " 'list': 400,\n",
       " 'copy': 401,\n",
       " 'takes': 402,\n",
       " '1': 403,\n",
       " 'person': 404,\n",
       " 'law': 405,\n",
       " 'hart': 406,\n",
       " 'bin': 407,\n",
       " 'wrong': 408,\n",
       " 'bar': 409,\n",
       " 'place': 410,\n",
       " 'times': 411,\n",
       " 'hope': 412,\n",
       " 'ground': 413,\n",
       " 'sight': 414,\n",
       " 'sit': 415,\n",
       " 'had': 416,\n",
       " 'maiesty': 417,\n",
       " 'pale': 418,\n",
       " \"on't\": 419,\n",
       " 'fell': 420,\n",
       " 'lost': 421,\n",
       " 'soft': 422,\n",
       " 'power': 423,\n",
       " 'yong': 424,\n",
       " 'duty': 425,\n",
       " 'whole': 426,\n",
       " 'woe': 427,\n",
       " 'ioy': 428,\n",
       " 'wife': 429,\n",
       " 'came': 430,\n",
       " 'queen': 431,\n",
       " 'seeke': 432,\n",
       " 'seemes': 433,\n",
       " 'blacke': 434,\n",
       " 'kings': 435,\n",
       " 'teares': 436,\n",
       " 'she': 437,\n",
       " 'top': 438,\n",
       " 'fashion': 439,\n",
       " 'deed': 440,\n",
       " 'euery': 441,\n",
       " 'light': 442,\n",
       " 'custome': 443,\n",
       " 'borne': 444,\n",
       " 'wilt': 445,\n",
       " 'hither': 446,\n",
       " 'lay': 447,\n",
       " 'ouer': 448,\n",
       " 'age': 449,\n",
       " 'fall': 450,\n",
       " 'lye': 451,\n",
       " 'conscience': 452,\n",
       " 'should': 453,\n",
       " 'husband': 454,\n",
       " 'folio': 455,\n",
       " 'files': 456,\n",
       " 'information': 457,\n",
       " 'below': 458,\n",
       " 'particular': 459,\n",
       " 'month': 460,\n",
       " 'neither': 461,\n",
       " 'wish': 462,\n",
       " 'try': 463,\n",
       " 'want': 464,\n",
       " 'here': 465,\n",
       " 'before': 466,\n",
       " 'read': 467,\n",
       " 'about': 468,\n",
       " 'honor': 469,\n",
       " 'lookes': 470,\n",
       " 'charge': 471,\n",
       " 'knowne': 472,\n",
       " 'sound': 473,\n",
       " 'sister': 474,\n",
       " 'memory': 475,\n",
       " 'brother': 476,\n",
       " 'beseech': 477,\n",
       " 'lesse': 478,\n",
       " 'dust': 479,\n",
       " 'shewes': 480,\n",
       " 'desire': 481,\n",
       " 'obey': 482,\n",
       " 'woman': 483,\n",
       " 'almost': 484,\n",
       " 'grow': 485,\n",
       " 'shame': 486,\n",
       " 'giues': 487,\n",
       " \"too't\": 488,\n",
       " 'table': 489,\n",
       " 'musicke': 490,\n",
       " 'hamlets': 491,\n",
       " 'receiue': 492,\n",
       " 'maiestie': 493,\n",
       " 'thanke': 494,\n",
       " 'gaue': 495,\n",
       " 'could': 496,\n",
       " 'bad': 497,\n",
       " 'wee': 498,\n",
       " 'ore': 499,\n",
       " 'noise': 500,\n",
       " \"shakespeare's\": 501,\n",
       " 'next': 502,\n",
       " 'public': 503,\n",
       " 'domain': 504,\n",
       " 'any': 505,\n",
       " 'audience': 506,\n",
       " 'text': 507,\n",
       " 'university': 508,\n",
       " 'send': 509,\n",
       " 'point': 510,\n",
       " 'start': 511,\n",
       " 'copies': 512,\n",
       " 'tm': 513,\n",
       " 'money': 514,\n",
       " 'medium': 515,\n",
       " 'forth': 516,\n",
       " 'form': 517,\n",
       " 'choose': 518,\n",
       " 'either': 519,\n",
       " 'think': 520,\n",
       " 'cold': 521,\n",
       " 'bid': 522,\n",
       " 'dane': 523,\n",
       " 'peece': 524,\n",
       " 'buried': 525,\n",
       " 'cast': 526,\n",
       " 'against': 527,\n",
       " 'hot': 528,\n",
       " 'sea': 529,\n",
       " 'truth': 530,\n",
       " 'sayes': 531,\n",
       " 'season': 532,\n",
       " 'gracious': 533,\n",
       " 'dumbe': 534,\n",
       " 'loues': 535,\n",
       " 'sorrow': 536,\n",
       " 'marriage': 537,\n",
       " 'writ': 538,\n",
       " 'mouth': 539,\n",
       " 'pardon': 540,\n",
       " 'backe': 541,\n",
       " 'lordship': 542,\n",
       " 'mothers': 543,\n",
       " 'beard': 544,\n",
       " 'fare': 545,\n",
       " 'seruice': 546,\n",
       " 'withall': 547,\n",
       " 'maid': 548,\n",
       " 'enough': 549,\n",
       " 'effect': 550,\n",
       " 'double': 551,\n",
       " 'false': 552,\n",
       " 'vnderstand': 553,\n",
       " 'circumstance': 554,\n",
       " 'foole': 555,\n",
       " 'vowes': 556,\n",
       " 'keepes': 557,\n",
       " 'shape': 558,\n",
       " 'after': 559,\n",
       " 'dayes': 560,\n",
       " 'fat': 561,\n",
       " 'crowne': 562,\n",
       " 'wits': 563,\n",
       " 'damned': 564,\n",
       " 'ho': 565,\n",
       " 'needs': 566,\n",
       " 'touch': 567,\n",
       " 'ranke': 568,\n",
       " 'generall': 569,\n",
       " 'moue': 570,\n",
       " 'home': 571,\n",
       " 'ill': 572,\n",
       " 'round': 573,\n",
       " 'their': 574,\n",
       " 'fortunes': 575,\n",
       " 'laugh': 576,\n",
       " 'begin': 577,\n",
       " 'anon': 578,\n",
       " 'proofe': 579,\n",
       " 'gods': 580,\n",
       " 'quicke': 581,\n",
       " 'dangerous': 582,\n",
       " 'christian': 583,\n",
       " 'danish': 584,\n",
       " 'poyson': 585,\n",
       " 'begge': 586,\n",
       " 'wager': 587,\n",
       " \"drown'd\": 588,\n",
       " 'water': 589,\n",
       " 'scull': 590,\n",
       " 'org': 591,\n",
       " 'file': 592,\n",
       " 'further': 593,\n",
       " 'shakespeare': 594,\n",
       " 'books': 595,\n",
       " 'often': 596,\n",
       " 'new': 597,\n",
       " 'million': 598,\n",
       " 'work': 599,\n",
       " 'rather': 600,\n",
       " 'give': 601,\n",
       " 'carnegie': 602,\n",
       " 'mellon': 603,\n",
       " 'gifts': 604,\n",
       " 'email': 605,\n",
       " 's': 606,\n",
       " 'com': 607,\n",
       " 'author': 608,\n",
       " 'past': 609,\n",
       " 'visit': 610,\n",
       " 'statement': 611,\n",
       " 'even': 612,\n",
       " 'fault': 613,\n",
       " 'among': 614,\n",
       " 'distribute': 615,\n",
       " 'damages': 616,\n",
       " 'including': 617,\n",
       " 'some': 618,\n",
       " 'already': 619,\n",
       " 'each': 620,\n",
       " 'prepare': 621,\n",
       " 'spelling': 622,\n",
       " 'wonder': 623,\n",
       " 'quite': 624,\n",
       " 'very': 625,\n",
       " 'close': 626,\n",
       " 'left': 627,\n",
       " 'possible': 628,\n",
       " 'houre': 629,\n",
       " 'twelue': 630,\n",
       " 'quiet': 631,\n",
       " 'course': 632,\n",
       " 'sometimes': 633,\n",
       " 'march': 634,\n",
       " 'norwey': 635,\n",
       " 'land': 636,\n",
       " \"do's\": 637,\n",
       " 'vnto': 638,\n",
       " 'speak': 639,\n",
       " 'spirits': 640,\n",
       " 'cocke': 641,\n",
       " 'guilty': 642,\n",
       " \"'gainst\": 643,\n",
       " 'wholsome': 644,\n",
       " 'lords': 645,\n",
       " 'kingdome': 646,\n",
       " 'freely': 647,\n",
       " 'dreame': 648,\n",
       " 'told': 649,\n",
       " 'loose': 650,\n",
       " 'dread': 651,\n",
       " 'returne': 652,\n",
       " 'france': 653,\n",
       " 'confesse': 654,\n",
       " 'dye': 655,\n",
       " 'visage': 656,\n",
       " 'truly': 657,\n",
       " 'bound': 658,\n",
       " 'prythee': 659,\n",
       " 'health': 660,\n",
       " 'flesh': 661,\n",
       " 'fie': 662,\n",
       " 'beast': 663,\n",
       " 'discourse': 664,\n",
       " 'longer': 665,\n",
       " 'wicked': 666,\n",
       " 'disposition': 667,\n",
       " 'report': 668,\n",
       " 'teach': 669,\n",
       " 'thinkes': 670,\n",
       " 'tis': 671,\n",
       " 'yes': 672,\n",
       " 'countenance': 673,\n",
       " 'perchance': 674,\n",
       " 'warrant': 675,\n",
       " 'silence': 676,\n",
       " 'perhaps': 677,\n",
       " 'wisedome': 678,\n",
       " 'blessing': 679,\n",
       " 'dull': 680,\n",
       " 'mans': 681,\n",
       " \"you'l\": 682,\n",
       " 'making': 683,\n",
       " \"damn'd\": 684,\n",
       " 'soules': 685,\n",
       " 'cries': 686,\n",
       " 'desperate': 687,\n",
       " 'shalt': 688,\n",
       " 'prison': 689,\n",
       " 'went': 690,\n",
       " 'naturall': 691,\n",
       " 'holds': 692,\n",
       " 'sodaine': 693,\n",
       " 'adue': 694,\n",
       " 'braine': 695,\n",
       " 'knaue': 696,\n",
       " 'vnder': 697,\n",
       " 'mercy': 698,\n",
       " 'lacke': 699,\n",
       " \"heere's\": 700,\n",
       " \"in's\": 701,\n",
       " 'tooke': 702,\n",
       " 'arme': 703,\n",
       " 'brought': 704,\n",
       " 'dutie': 705,\n",
       " 'found': 706,\n",
       " 'into': 707,\n",
       " 'whereon': 708,\n",
       " 'commission': 709,\n",
       " 'passe': 710,\n",
       " 'were': 711,\n",
       " 'vilde': 712,\n",
       " 'short': 713,\n",
       " 'behinde': 714,\n",
       " 'presently': 715,\n",
       " 'slaue': 716,\n",
       " 'saue': 717,\n",
       " 'ambition': 718,\n",
       " 'sing': 719,\n",
       " 'themselues': 720,\n",
       " 'braines': 721,\n",
       " 'yours': 722,\n",
       " \"'twas\": 723,\n",
       " 'onely': 724,\n",
       " 'french': 725,\n",
       " 'treason': 726,\n",
       " 'morrow': 727,\n",
       " 'conceit': 728,\n",
       " 'drowne': 729,\n",
       " 'fellowes': 730,\n",
       " 'hoa': 731,\n",
       " 'patience': 732,\n",
       " 'halfe': 733,\n",
       " 'yeare': 734,\n",
       " 'forgot': 735,\n",
       " 'hence': 736,\n",
       " \"doo't\": 737,\n",
       " \"e'ene\": 738,\n",
       " 'slaine': 739,\n",
       " 'sense': 740,\n",
       " 'buriall': 741,\n",
       " 'alexander': 742,\n",
       " 'osricke': 743,\n",
       " 'carriages': 744,\n",
       " 'foyles': 745,\n",
       " 'hit': 746,\n",
       " \"gutenberg's\": 747,\n",
       " 'edition': 748,\n",
       " 'disk': 749,\n",
       " 'donations': 750,\n",
       " 'states': 751,\n",
       " 'release': 752,\n",
       " 'date': 753,\n",
       " 'ftp': 754,\n",
       " 'least': 755,\n",
       " 'us': 756,\n",
       " 'hundred': 757,\n",
       " '2': 758,\n",
       " 'reach': 759,\n",
       " 'ten': 760,\n",
       " 'present': 761,\n",
       " 'third': 762,\n",
       " 'michael': 763,\n",
       " \"don't\": 764,\n",
       " 'matters': 765,\n",
       " 'use': 766,\n",
       " 'legal': 767,\n",
       " 'got': 768,\n",
       " 'liability': 769,\n",
       " 'reading': 770,\n",
       " 'receive': 771,\n",
       " 'refund': 772,\n",
       " 'sending': 773,\n",
       " 'request': 774,\n",
       " 'received': 775,\n",
       " 'property': 776,\n",
       " 'otherwise': 777,\n",
       " 'cost': 778,\n",
       " 'characters': 779,\n",
       " 'used': 780,\n",
       " 'fee': 781,\n",
       " 'pay': 782,\n",
       " 'notes': 783,\n",
       " 'lines': 784,\n",
       " 'vnfold': 785,\n",
       " 'practice': 786,\n",
       " 'find': 787,\n",
       " 'high': 788,\n",
       " 'changed': 789,\n",
       " 'printed': 790,\n",
       " 'run': 791,\n",
       " 'sicke': 792,\n",
       " 'meet': 793,\n",
       " 'twice': 794,\n",
       " \"'twill\": 795,\n",
       " 'nights': 796,\n",
       " 'starre': 797,\n",
       " \"t'\": 798,\n",
       " 'figure': 799,\n",
       " 'warlike': 800,\n",
       " 'cannon': 801,\n",
       " 'toward': 802,\n",
       " 'image': 803,\n",
       " 'norway': 804,\n",
       " \"seal'd\": 805,\n",
       " 'lands': 806,\n",
       " 'stood': 807,\n",
       " \"return'd\": 808,\n",
       " 'strong': 809,\n",
       " 'motiue': 810,\n",
       " 'ease': 811,\n",
       " 'treasure': 812,\n",
       " 'stop': 813,\n",
       " 'violence': 814,\n",
       " 'trumpet': 815,\n",
       " 'whether': 816,\n",
       " 'heerein': 817,\n",
       " 'wherein': 818,\n",
       " 'impart': 819,\n",
       " 'morning': 820,\n",
       " 'attendant': 821,\n",
       " 'brow': 822,\n",
       " 'discretion': 823,\n",
       " 'followes': 824,\n",
       " 'frame': 825,\n",
       " 'cornelius': 826,\n",
       " 'giuing': 827,\n",
       " 'commend': 828,\n",
       " \"would'st\": 829,\n",
       " 'natiue': 830,\n",
       " 'fauour': 831,\n",
       " 'hang': 832,\n",
       " 'colour': 833,\n",
       " 'show': 834,\n",
       " 'throw': 835,\n",
       " 'lose': 836,\n",
       " 'gentle': 837,\n",
       " 'sits': 838,\n",
       " 'growes': 839,\n",
       " 'growne': 840,\n",
       " 'vnkle': 841,\n",
       " 'speed': 842,\n",
       " 'incestuous': 843,\n",
       " 'glad': 844,\n",
       " 'forget': 845,\n",
       " 'thrift': 846,\n",
       " \"arm'd\": 847,\n",
       " 'thrice': 848,\n",
       " 'length': 849,\n",
       " 'kept': 850,\n",
       " 'knew': 851,\n",
       " 'answere': 852,\n",
       " 'honour': 853,\n",
       " 'wide': 854,\n",
       " 'force': 855,\n",
       " 'affection': 856,\n",
       " 'shot': 857,\n",
       " 'danger': 858,\n",
       " 'moone': 859,\n",
       " 'safety': 860,\n",
       " 'lies': 861,\n",
       " 'buy': 862,\n",
       " 'aboue': 863,\n",
       " 'humbly': 864,\n",
       " 'tend': 865,\n",
       " 'ist': 866,\n",
       " 'bloud': 867,\n",
       " 'heate': 868,\n",
       " 'bones': 869,\n",
       " 'base': 870,\n",
       " 'horrible': 871,\n",
       " 'imagination': 872,\n",
       " 'direct': 873,\n",
       " 'lend': 874,\n",
       " 'hearing': 875,\n",
       " 'certaine': 876,\n",
       " 'fast': 877,\n",
       " 'house': 878,\n",
       " 'tale': 879,\n",
       " 'vnnaturall': 880,\n",
       " 'sleeping': 881,\n",
       " 'wit': 882,\n",
       " 'seeming': 883,\n",
       " 'wil': 884,\n",
       " 'court': 885,\n",
       " 'cursed': 886,\n",
       " 'instant': 887,\n",
       " 'ought': 888,\n",
       " 'bosome': 889,\n",
       " 'distracted': 890,\n",
       " 'yea': 891,\n",
       " 'booke': 892,\n",
       " 'secret': 893,\n",
       " 'stage': 894,\n",
       " 'seeing': 895,\n",
       " 'fingers': 896,\n",
       " 'reynoldo': 897,\n",
       " 'drift': 898,\n",
       " 'liberty': 899,\n",
       " 'closes': 900,\n",
       " 'consequence': 901,\n",
       " 'chamber': 902,\n",
       " \"turn'd\": 903,\n",
       " 'extasie': 904,\n",
       " 'violent': 905,\n",
       " 'meant': 906,\n",
       " 'hide': 907,\n",
       " 'am': 908,\n",
       " 'white': 909,\n",
       " 'awhile': 910,\n",
       " 'idle': 911,\n",
       " 'thence': 912,\n",
       " 'bene': 913,\n",
       " 'foure': 914,\n",
       " 'honestie': 915,\n",
       " 'count': 916,\n",
       " 'dreames': 917,\n",
       " 'bodies': 918,\n",
       " 'comming': 919,\n",
       " 'shal': 920,\n",
       " 'player': 921,\n",
       " 'flourish': 922,\n",
       " 'asse': 923,\n",
       " 'heauy': 924,\n",
       " 'masters': 925,\n",
       " 'others': 926,\n",
       " 'modestie': 927,\n",
       " 'cunning': 928,\n",
       " \"lou'd\": 929,\n",
       " 'horse': 930,\n",
       " 'priam': 931,\n",
       " 'sleepes': 932,\n",
       " 'hecuba': 933,\n",
       " 'mortall': 934,\n",
       " 'weepe': 935,\n",
       " 'pate': 936,\n",
       " 'diuell': 937,\n",
       " 'blame': 938,\n",
       " 'flye': 939,\n",
       " 'turne': 940,\n",
       " 'beautie': 941,\n",
       " 'acte': 942,\n",
       " 'nunnery': 943,\n",
       " 'snow': 944,\n",
       " 'rose': 945,\n",
       " 'ladies': 946,\n",
       " 'wretched': 947,\n",
       " 'weare': 948,\n",
       " \"kill'd\": 949,\n",
       " 'kill': 950,\n",
       " 'maker': 951,\n",
       " 'prologue': 952,\n",
       " 'shortly': 953,\n",
       " 'begun': 954,\n",
       " 'lights': 955,\n",
       " 'heeles': 956,\n",
       " 'doore': 957,\n",
       " 'meete': 958,\n",
       " 'stronger': 959,\n",
       " 'whereto': 960,\n",
       " 'messenger': 961,\n",
       " 'bore': 962,\n",
       " 'spade': 963,\n",
       " 'gallowes': 964,\n",
       " 'sings': 965,\n",
       " 'rites': 966,\n",
       " \"woo't\": 967,\n",
       " 'cup': 968,\n",
       " '100': 969,\n",
       " 'country': 970,\n",
       " 'keep': 971,\n",
       " 'open': 972,\n",
       " 'readers': 973,\n",
       " 'plain': 974,\n",
       " 'readable': 975,\n",
       " 'prepared': 976,\n",
       " 'need': 977,\n",
       " '2265': 978,\n",
       " 'united': 979,\n",
       " 'midnight': 980,\n",
       " 'per': 981,\n",
       " '000': 982,\n",
       " 'computer': 983,\n",
       " '3': 984,\n",
       " 'tax': 985,\n",
       " 'executive': 986,\n",
       " 'pobox': 987,\n",
       " 'view': 988,\n",
       " 'net': 989,\n",
       " 'also': 990,\n",
       " 'sites': 991,\n",
       " 'various': 992,\n",
       " 'directly': 993,\n",
       " 'available': 994,\n",
       " 'gutindex': 995,\n",
       " 'paid': 996,\n",
       " 'days': 997,\n",
       " 'return': 998,\n",
       " 'association': 999,\n",
       " 'limited': 1000,\n",
       " ...}"
      ]
     },
     "execution_count": 11,
     "metadata": {},
     "output_type": "execute_result"
    }
   ],
   "source": [
    "tokenizer=Tokenizer(oov_token=\"<OOV>\")\n",
    "tokenizer.fit_on_texts(sentences)\n",
    "\n",
    "word_index=tokenizer.word_index\n",
    "len_word_index=len(word_index)\n",
    "\n",
    "word_index"
   ]
  },
  {
   "cell_type": "code",
   "execution_count": 12,
   "metadata": {
    "colab": {},
    "colab_type": "code",
    "executionInfo": {
     "elapsed": 1438,
     "status": "ok",
     "timestamp": 1592418614974,
     "user": {
      "displayName": "Varun Magotra",
      "photoUrl": "https://lh3.googleusercontent.com/a-/AOh14Gg1rDl7taw8ZjxP85_rznRhegd3wpoNzXC8jES5=s64",
      "userId": "05615579908340934188"
     },
     "user_tz": -330
    },
    "id": "YEJaaSXuUtC3"
   },
   "outputs": [],
   "source": [
    "sequence=tokenizer.texts_to_sequences(sentences)\n",
    "pad_sequence=pad_sequences(sequence,truncating=\"post\",padding='post')"
   ]
  },
  {
   "cell_type": "code",
   "execution_count": 13,
   "metadata": {
    "colab": {
     "base_uri": "https://localhost:8080/",
     "height": 34
    },
    "colab_type": "code",
    "executionInfo": {
     "elapsed": 1078,
     "status": "ok",
     "timestamp": 1592418614975,
     "user": {
      "displayName": "Varun Magotra",
      "photoUrl": "https://lh3.googleusercontent.com/a-/AOh14Gg1rDl7taw8ZjxP85_rznRhegd3wpoNzXC8jES5=s64",
      "userId": "05615579908340934188"
     },
     "user_tz": -330
    },
    "id": "HmU8zFU6UtC8",
    "outputId": "f645f73d-359f-42df-9a4c-6798115fc979"
   },
   "outputs": [
    {
     "data": {
      "text/plain": [
       "(1, 21236)"
      ]
     },
     "execution_count": 13,
     "metadata": {},
     "output_type": "execute_result"
    }
   ],
   "source": [
    "pad_sequence.shape"
   ]
  },
  {
   "cell_type": "code",
   "execution_count": 14,
   "metadata": {
    "colab": {},
    "colab_type": "code",
    "executionInfo": {
     "elapsed": 1373,
     "status": "ok",
     "timestamp": 1592418615636,
     "user": {
      "displayName": "Varun Magotra",
      "photoUrl": "https://lh3.googleusercontent.com/a-/AOh14Gg1rDl7taw8ZjxP85_rznRhegd3wpoNzXC8jES5=s64",
      "userId": "05615579908340934188"
     },
     "user_tz": -330
    },
    "id": "yVhsalLbUtDA"
   },
   "outputs": [],
   "source": [
    "pad_sequence=np.array(pad_sequence)"
   ]
  },
  {
   "cell_type": "code",
   "execution_count": 15,
   "metadata": {
    "colab": {
     "base_uri": "https://localhost:8080/",
     "height": 34
    },
    "colab_type": "code",
    "executionInfo": {
     "elapsed": 1362,
     "status": "ok",
     "timestamp": 1592418616300,
     "user": {
      "displayName": "Varun Magotra",
      "photoUrl": "https://lh3.googleusercontent.com/a-/AOh14Gg1rDl7taw8ZjxP85_rznRhegd3wpoNzXC8jES5=s64",
      "userId": "05615579908340934188"
     },
     "user_tz": -330
    },
    "id": "7E7biSqrUtDF",
    "outputId": "077922a7-3897-4cb3-e0b5-7f8158d129f7"
   },
   "outputs": [
    {
     "data": {
      "text/plain": [
       "(1, 21236)"
      ]
     },
     "execution_count": 15,
     "metadata": {},
     "output_type": "execute_result"
    }
   ],
   "source": [
    "pad_sequence.shape"
   ]
  },
  {
   "cell_type": "code",
   "execution_count": 16,
   "metadata": {
    "colab": {
     "base_uri": "https://localhost:8080/",
     "height": 34
    },
    "colab_type": "code",
    "executionInfo": {
     "elapsed": 1748,
     "status": "ok",
     "timestamp": 1592418617064,
     "user": {
      "displayName": "Varun Magotra",
      "photoUrl": "https://lh3.googleusercontent.com/a-/AOh14Gg1rDl7taw8ZjxP85_rznRhegd3wpoNzXC8jES5=s64",
      "userId": "05615579908340934188"
     },
     "user_tz": -330
    },
    "id": "Y6Z9RtaQUtDJ",
    "outputId": "b2882899-d799-4ff0-bed1-f7146e459b64"
   },
   "outputs": [
    {
     "data": {
      "text/plain": [
       "(21236,)"
      ]
     },
     "execution_count": 16,
     "metadata": {},
     "output_type": "execute_result"
    }
   ],
   "source": [
    "flatten_pad_sequence=pad_sequence.flatten()\n",
    "flatten_pad_sequence.shape"
   ]
  },
  {
   "cell_type": "code",
   "execution_count": 17,
   "metadata": {
    "colab": {},
    "colab_type": "code",
    "executionInfo": {
     "elapsed": 1456,
     "status": "ok",
     "timestamp": 1592418617066,
     "user": {
      "displayName": "Varun Magotra",
      "photoUrl": "https://lh3.googleusercontent.com/a-/AOh14Gg1rDl7taw8ZjxP85_rznRhegd3wpoNzXC8jES5=s64",
      "userId": "05615579908340934188"
     },
     "user_tz": -330
    },
    "id": "l5Q-79zSUtDO"
   },
   "outputs": [],
   "source": [
    "seq_length=130\n",
    "total_num_seq=len(text)//(seq_length+1)"
   ]
  },
  {
   "cell_type": "code",
   "execution_count": 18,
   "metadata": {
    "colab": {
     "base_uri": "https://localhost:8080/",
     "height": 34
    },
    "colab_type": "code",
    "executionInfo": {
     "elapsed": 1382,
     "status": "ok",
     "timestamp": 1592418618660,
     "user": {
      "displayName": "Varun Magotra",
      "photoUrl": "https://lh3.googleusercontent.com/a-/AOh14Gg1rDl7taw8ZjxP85_rznRhegd3wpoNzXC8jES5=s64",
      "userId": "05615579908340934188"
     },
     "user_tz": -330
    },
    "id": "NCSM1M7vUtDR",
    "outputId": "67bd2c4d-4c15-447e-80f3-b4efef54fbf8"
   },
   "outputs": [
    {
     "data": {
      "text/plain": [
       "1034"
      ]
     },
     "execution_count": 18,
     "metadata": {},
     "output_type": "execute_result"
    }
   ],
   "source": [
    "total_num_seq"
   ]
  },
  {
   "cell_type": "code",
   "execution_count": 19,
   "metadata": {
    "colab": {},
    "colab_type": "code",
    "executionInfo": {
     "elapsed": 805,
     "status": "ok",
     "timestamp": 1592418619174,
     "user": {
      "displayName": "Varun Magotra",
      "photoUrl": "https://lh3.googleusercontent.com/a-/AOh14Gg1rDl7taw8ZjxP85_rznRhegd3wpoNzXC8jES5=s64",
      "userId": "05615579908340934188"
     },
     "user_tz": -330
    },
    "id": "mSgJvrxFUtDV"
   },
   "outputs": [],
   "source": [
    "import tensorflow as tf\n",
    "char_dataset=tf.data.Dataset.from_tensor_slices(flatten_pad_sequence)"
   ]
  },
  {
   "cell_type": "code",
   "execution_count": 20,
   "metadata": {
    "colab": {},
    "colab_type": "code",
    "executionInfo": {
     "elapsed": 1713,
     "status": "ok",
     "timestamp": 1592418620700,
     "user": {
      "displayName": "Varun Magotra",
      "photoUrl": "https://lh3.googleusercontent.com/a-/AOh14Gg1rDl7taw8ZjxP85_rznRhegd3wpoNzXC8jES5=s64",
      "userId": "05615579908340934188"
     },
     "user_tz": -330
    },
    "id": "lnmS7DlsUtDZ"
   },
   "outputs": [],
   "source": [
    "sequence=char_dataset.batch(seq_length+1, drop_remainder=True)"
   ]
  },
  {
   "cell_type": "code",
   "execution_count": 21,
   "metadata": {
    "colab": {},
    "colab_type": "code",
    "executionInfo": {
     "elapsed": 1225,
     "status": "ok",
     "timestamp": 1592418620703,
     "user": {
      "displayName": "Varun Magotra",
      "photoUrl": "https://lh3.googleusercontent.com/a-/AOh14Gg1rDl7taw8ZjxP85_rznRhegd3wpoNzXC8jES5=s64",
      "userId": "05615579908340934188"
     },
     "user_tz": -330
    },
    "id": "cYk2G__nUtDc"
   },
   "outputs": [],
   "source": [
    "def create_seq_target(seq):\n",
    "    input_text=seq[:-1]\n",
    "    target_text=seq[1:]\n",
    "    \n",
    "    return input_text,target_text"
   ]
  },
  {
   "cell_type": "code",
   "execution_count": 22,
   "metadata": {
    "colab": {},
    "colab_type": "code",
    "executionInfo": {
     "elapsed": 1481,
     "status": "ok",
     "timestamp": 1592418621493,
     "user": {
      "displayName": "Varun Magotra",
      "photoUrl": "https://lh3.googleusercontent.com/a-/AOh14Gg1rDl7taw8ZjxP85_rznRhegd3wpoNzXC8jES5=s64",
      "userId": "05615579908340934188"
     },
     "user_tz": -330
    },
    "id": "RACT3E-oUtDf"
   },
   "outputs": [],
   "source": [
    "dataset=sequence.map(create_seq_target)"
   ]
  },
  {
   "cell_type": "code",
   "execution_count": 23,
   "metadata": {
    "colab": {},
    "colab_type": "code",
    "executionInfo": {
     "elapsed": 1503,
     "status": "ok",
     "timestamp": 1592418622091,
     "user": {
      "displayName": "Varun Magotra",
      "photoUrl": "https://lh3.googleusercontent.com/a-/AOh14Gg1rDl7taw8ZjxP85_rznRhegd3wpoNzXC8jES5=s64",
      "userId": "05615579908340934188"
     },
     "user_tz": -330
    },
    "id": "ignlsvnZUtDi"
   },
   "outputs": [],
   "source": [
    "batch_size=128\n",
    "buffer_size=1000\n",
    "dataset=dataset.shuffle(buffer_size).batch(batch_size,drop_remainder=True)"
   ]
  },
  {
   "cell_type": "code",
   "execution_count": 24,
   "metadata": {
    "colab": {
     "base_uri": "https://localhost:8080/",
     "height": 34
    },
    "colab_type": "code",
    "executionInfo": {
     "elapsed": 1659,
     "status": "ok",
     "timestamp": 1592418622740,
     "user": {
      "displayName": "Varun Magotra",
      "photoUrl": "https://lh3.googleusercontent.com/a-/AOh14Gg1rDl7taw8ZjxP85_rznRhegd3wpoNzXC8jES5=s64",
      "userId": "05615579908340934188"
     },
     "user_tz": -330
    },
    "id": "Dxztm3KCUtDk",
    "outputId": "49748e89-56e3-4df3-9933-3b214ff78f8a"
   },
   "outputs": [
    {
     "data": {
      "text/plain": [
       "<BatchDataset shapes: ((128, 130), (128, 130)), types: (tf.int32, tf.int32)>"
      ]
     },
     "execution_count": 24,
     "metadata": {},
     "output_type": "execute_result"
    }
   ],
   "source": [
    "dataset"
   ]
  },
  {
   "cell_type": "code",
   "execution_count": 25,
   "metadata": {
    "colab": {},
    "colab_type": "code",
    "executionInfo": {
     "elapsed": 1138,
     "status": "ok",
     "timestamp": 1592418622743,
     "user": {
      "displayName": "Varun Magotra",
      "photoUrl": "https://lh3.googleusercontent.com/a-/AOh14Gg1rDl7taw8ZjxP85_rznRhegd3wpoNzXC8jES5=s64",
      "userId": "05615579908340934188"
     },
     "user_tz": -330
    },
    "id": "IJQrDWNMUtDq"
   },
   "outputs": [
    {
     "name": "stderr",
     "output_type": "stream",
     "text": [
      "Using TensorFlow backend.\n"
     ]
    }
   ],
   "source": [
    "vocab_size=len_word_index\n",
    "embed_dim=70\n",
    "rr_neuron=1024\n",
    "from keras.losses import sparse_categorical_crossentropy\n",
    "def sparse(y_true,y_pred):\n",
    "    return sparse_categorical_crossentropy(y_true,y_pred,from_logits=True)"
   ]
  },
  {
   "cell_type": "code",
   "execution_count": 26,
   "metadata": {
    "colab": {},
    "colab_type": "code",
    "executionInfo": {
     "elapsed": 1915,
     "status": "ok",
     "timestamp": 1592418623969,
     "user": {
      "displayName": "Varun Magotra",
      "photoUrl": "https://lh3.googleusercontent.com/a-/AOh14Gg1rDl7taw8ZjxP85_rznRhegd3wpoNzXC8jES5=s64",
      "userId": "05615579908340934188"
     },
     "user_tz": -330
    },
    "id": "KvdPgoK6UtDu"
   },
   "outputs": [],
   "source": [
    "from tensorflow.keras.models import Sequential\n",
    "from tensorflow.keras.layers import Dense,Dropout,Embedding,GRU\n",
    "def create_model(vocab_size,embed_dim,rr_neuron,batch_size):\n",
    "    model=Sequential()\n",
    "    model.add(Embedding(vocab_size,embed_dim,batch_input_shape=[batch_size,None]))\n",
    "    model.add(GRU(rr_neuron,return_sequences=True, stateful=True,recurrent_initializer='glorot_uniform'))\n",
    "    model.add(Dense(vocab_size))\n",
    "    model.compile(optimizer='adam',loss=sparse)\n",
    "    return model\n"
   ]
  },
  {
   "cell_type": "code",
   "execution_count": 27,
   "metadata": {
    "colab": {
     "base_uri": "https://localhost:8080/",
     "height": 260
    },
    "colab_type": "code",
    "executionInfo": {
     "elapsed": 1427,
     "status": "ok",
     "timestamp": 1592418623971,
     "user": {
      "displayName": "Varun Magotra",
      "photoUrl": "https://lh3.googleusercontent.com/a-/AOh14Gg1rDl7taw8ZjxP85_rznRhegd3wpoNzXC8jES5=s64",
      "userId": "05615579908340934188"
     },
     "user_tz": -330
    },
    "id": "kHJ1FSJTUtDx",
    "outputId": "416f3c51-d925-4e65-9c01-f1fa9e49b5e0"
   },
   "outputs": [
    {
     "name": "stdout",
     "output_type": "stream",
     "text": [
      "Model: \"sequential\"\n",
      "_________________________________________________________________\n",
      "Layer (type)                 Output Shape              Param #   \n",
      "=================================================================\n",
      "embedding (Embedding)        (128, None, 70)           374010    \n",
      "_________________________________________________________________\n",
      "gru (GRU)                    (128, None, 1024)         3366912   \n",
      "_________________________________________________________________\n",
      "dense (Dense)                (128, None, 5343)         5476575   \n",
      "=================================================================\n",
      "Total params: 9,217,497\n",
      "Trainable params: 9,217,497\n",
      "Non-trainable params: 0\n",
      "_________________________________________________________________\n"
     ]
    }
   ],
   "source": [
    "model=create_model(vocab_size=vocab_size, embed_dim=embed_dim, rr_neuron=rr_neuron,batch_size=batch_size)\n",
    "model.summary()"
   ]
  },
  {
   "cell_type": "code",
   "execution_count": 30,
   "metadata": {
    "colab": {
     "base_uri": "https://localhost:8080/",
     "height": 72
    },
    "colab_type": "code",
    "executionInfo": {
     "elapsed": 1596,
     "status": "ok",
     "timestamp": 1592419408310,
     "user": {
      "displayName": "Varun Magotra",
      "photoUrl": "https://lh3.googleusercontent.com/a-/AOh14Gg1rDl7taw8ZjxP85_rznRhegd3wpoNzXC8jES5=s64",
      "userId": "05615579908340934188"
     },
     "user_tz": -330
    },
    "id": "2tQfYxBiltdB",
    "outputId": "3664ce00-eca8-4cc1-9e19-68cad11e350f"
   },
   "outputs": [],
   "source": [
    "reverse_word_index = dict([(value, key) for (key, value) in word_index.items()])\n",
    "# print(reverse_word_index)\n",
    "# print(reverse_word_index[1])"
   ]
  },
  {
   "cell_type": "code",
   "execution_count": 29,
   "metadata": {
    "colab": {
     "base_uri": "https://localhost:8080/",
     "height": 420
    },
    "colab_type": "code",
    "executionInfo": {
     "elapsed": 1698,
     "status": "error",
     "timestamp": 1592419308740,
     "user": {
      "displayName": "Varun Magotra",
      "photoUrl": "https://lh3.googleusercontent.com/a-/AOh14Gg1rDl7taw8ZjxP85_rznRhegd3wpoNzXC8jES5=s64",
      "userId": "05615579908340934188"
     },
     "user_tz": -330
    },
    "id": "1c5eYvgJUtD1",
    "outputId": "e9e9a5b3-8d0e-4ef5-84c0-8561d3f464fb"
   },
   "outputs": [
    {
     "name": "stdout",
     "output_type": "stream",
     "text": [
      "sayest temperance contrary aduice amber scarse bell com'st admirable begun takes exit creepe crie poesie closset bestow'd thinke flints bounds gyant melodious cicatrice stately obiect dreame gate secundus forbeare matine coniuration wharfe affraide teeth terrible almost against applicable read broken daysie antike sides ominous v howsoeuer transcription sequell window ont vnmastred contacting grandsire volly iuggel'd stops betoken vnschool'd spade shreds towards suiting botch comfort iot hum hammers lights falsely illo prisoner artlesse bloodie lust compact yeomans ladiship vnhappily zone lines osr equiuocation napkin fancie portraiture excellent squeezing throwne nickname electronic lights waste talke deepe holde aeneas vniuersity intruding perseuer intended iest england hands william mantle what breuitie gidge espials discover com sodainely caution choyse 3 passionate knowes seales look'd iocond crocodile pronounc'd lipps vsurpe conception carnegie delights turneth cou'nant necke\n"
     ]
    }
   ],
   "source": [
    "#Checking Model Creation before training\n",
    "for input_example,target_example in dataset.take(1):\n",
    "    target_example=model(input_example)\n",
    "    # print(input_example)\n",
    "sample_indices=tf.random.categorical(target_example[0],num_samples=1)\n",
    "sample_indices=tf.squeeze(sample_indices,axis=-1).numpy()\n",
    "sample_indices\n",
    "\n",
    "def decode_review(text):\n",
    "    return ' '.join([reverse_word_index.get(i, '?') for i in text])\n",
    "\n",
    "print(decode_review(sample_indices))\n",
    "# print(dataset.take(1).[input_example])\n"
   ]
  },
  {
   "cell_type": "code",
   "execution_count": 130,
   "metadata": {
    "colab": {
     "base_uri": "https://localhost:8080/",
     "height": 1000
    },
    "colab_type": "code",
    "executionInfo": {
     "elapsed": 431159,
     "status": "ok",
     "timestamp": 1592419059725,
     "user": {
      "displayName": "Varun Magotra",
      "photoUrl": "https://lh3.googleusercontent.com/a-/AOh14Gg1rDl7taw8ZjxP85_rznRhegd3wpoNzXC8jES5=s64",
      "userId": "05615579908340934188"
     },
     "user_tz": -330
    },
    "id": "ydLw2AuOUtD3",
    "outputId": "ef351622-e0fb-4bfa-9213-8bfdd01bf62e"
   },
   "outputs": [
    {
     "name": "stdout",
     "output_type": "stream",
     "text": [
      "Epoch 1/30\n",
      "1/1 [==============================] - 0s 1ms/step - loss: 8.5836\n",
      "Epoch 2/30\n",
      "1/1 [==============================] - 0s 1ms/step - loss: 8.5811\n",
      "Epoch 3/30\n",
      "1/1 [==============================] - 0s 1ms/step - loss: 8.5776\n",
      "Epoch 4/30\n",
      "1/1 [==============================] - 0s 1ms/step - loss: 8.5714\n",
      "Epoch 5/30\n",
      "1/1 [==============================] - 0s 1ms/step - loss: 8.5556\n",
      "Epoch 6/30\n",
      "1/1 [==============================] - 0s 1ms/step - loss: 8.4689\n",
      "Epoch 7/30\n",
      "1/1 [==============================] - 0s 1ms/step - loss: 7.5558\n",
      "Epoch 8/30\n",
      "1/1 [==============================] - 0s 1ms/step - loss: 7.6088\n",
      "Epoch 9/30\n",
      "1/1 [==============================] - 0s 1ms/step - loss: 7.4781\n",
      "Epoch 10/30\n",
      "1/1 [==============================] - 0s 1ms/step - loss: 7.4586\n",
      "Epoch 11/30\n",
      "1/1 [==============================] - 0s 1ms/step - loss: 7.4858\n",
      "Epoch 12/30\n",
      "1/1 [==============================] - 0s 1ms/step - loss: 7.4972\n",
      "Epoch 13/30\n",
      "1/1 [==============================] - 0s 1ms/step - loss: 7.4922\n",
      "Epoch 14/30\n",
      "1/1 [==============================] - 0s 2ms/step - loss: 7.4638\n",
      "Epoch 15/30\n",
      "1/1 [==============================] - 0s 1ms/step - loss: 7.4220\n",
      "Epoch 16/30\n",
      "1/1 [==============================] - 0s 1ms/step - loss: 7.4074\n",
      "Epoch 17/30\n",
      "1/1 [==============================] - 0s 1ms/step - loss: 7.4177\n",
      "Epoch 18/30\n",
      "1/1 [==============================] - 0s 1ms/step - loss: 7.4153\n",
      "Epoch 19/30\n",
      "1/1 [==============================] - 0s 1ms/step - loss: 7.4115\n",
      "Epoch 20/30\n",
      "1/1 [==============================] - 0s 1ms/step - loss: 7.4159\n",
      "Epoch 21/30\n",
      "1/1 [==============================] - 0s 2ms/step - loss: 7.3929\n",
      "Epoch 22/30\n",
      "1/1 [==============================] - 0s 1ms/step - loss: 7.3835\n",
      "Epoch 23/30\n",
      "1/1 [==============================] - 0s 1ms/step - loss: 7.4074\n",
      "Epoch 24/30\n",
      "1/1 [==============================] - 0s 1ms/step - loss: 7.3889\n",
      "Epoch 25/30\n",
      "1/1 [==============================] - 0s 1ms/step - loss: 7.3891\n",
      "Epoch 26/30\n",
      "1/1 [==============================] - 0s 1ms/step - loss: 7.3826\n",
      "Epoch 27/30\n",
      "1/1 [==============================] - 0s 1ms/step - loss: 7.3839\n",
      "Epoch 28/30\n",
      "1/1 [==============================] - 0s 1ms/step - loss: 7.3871\n",
      "Epoch 29/30\n",
      "1/1 [==============================] - 0s 1ms/step - loss: 7.3537\n",
      "Epoch 30/30\n",
      "1/1 [==============================] - 0s 1ms/step - loss: 7.3712\n"
     ]
    }
   ],
   "source": [
    "epochs=30\n",
    "model.fit(dataset,epochs=epochs)\n",
    "#Saving the model\n",
    "model.save('Text_geneartor.h5') "
   ]
  },
  {
   "cell_type": "code",
   "execution_count": 131,
   "metadata": {
    "colab": {
     "base_uri": "https://localhost:8080/",
     "height": 260
    },
    "colab_type": "code",
    "executionInfo": {
     "elapsed": 1400,
     "status": "ok",
     "timestamp": 1592419071642,
     "user": {
      "displayName": "Varun Magotra",
      "photoUrl": "https://lh3.googleusercontent.com/a-/AOh14Gg1rDl7taw8ZjxP85_rznRhegd3wpoNzXC8jES5=s64",
      "userId": "05615579908340934188"
     },
     "user_tz": -330
    },
    "id": "-LovMkjbhQ49",
    "outputId": "978026dc-66e6-4a2c-d09e-7762f7834574"
   },
   "outputs": [
    {
     "name": "stdout",
     "output_type": "stream",
     "text": [
      "Model: \"sequential_2\"\n",
      "_________________________________________________________________\n",
      "Layer (type)                 Output Shape              Param #   \n",
      "=================================================================\n",
      "embedding_2 (Embedding)      (1, None, 70)             374010    \n",
      "_________________________________________________________________\n",
      "gru_2 (GRU)                  (1, None, 1024)           3366912   \n",
      "_________________________________________________________________\n",
      "dense_2 (Dense)              (1, None, 5343)           5476575   \n",
      "=================================================================\n",
      "Total params: 9,217,497\n",
      "Trainable params: 9,217,497\n",
      "Non-trainable params: 0\n",
      "_________________________________________________________________\n"
     ]
    }
   ],
   "source": [
    "from tensorflow.keras.models import load_model\n",
    "\n",
    "\"\"\"\n",
    "You can load the trained model by invoking the comments below\n",
    "\n",
    "\"\"\"\n",
    "model=create_model(vocab_size=vocab_size, embed_dim=embed_dim, rr_neuron=rr_neuron,batch_size=1)\n",
    "model.load_weights('/content/Text_geneartor.h5')\n",
    "model.build(tf.TensorShape([1,None]))\n",
    "model.summary()"
   ]
  },
  {
   "cell_type": "code",
   "execution_count": 153,
   "metadata": {
    "colab": {
     "base_uri": "https://localhost:8080/",
     "height": 278
    },
    "colab_type": "code",
    "executionInfo": {
     "elapsed": 1436,
     "status": "ok",
     "timestamp": 1592419878145,
     "user": {
      "displayName": "Varun Magotra",
      "photoUrl": "https://lh3.googleusercontent.com/a-/AOh14Gg1rDl7taw8ZjxP85_rznRhegd3wpoNzXC8jES5=s64",
      "userId": "05615579908340934188"
     },
     "user_tz": -330
    },
    "id": "DfcOVNodX60M",
    "outputId": "1d07842d-4aec-4e35-acfe-2b08bd6d1e25"
   },
   "outputs": [
    {
     "name": "stdout",
     "output_type": "stream",
     "text": [
      "Model: \"sequential_2\"\n",
      "_________________________________________________________________\n",
      "Layer (type)                 Output Shape              Param #   \n",
      "=================================================================\n",
      "embedding_2 (Embedding)      (1, None, 70)             374010    \n",
      "_________________________________________________________________\n",
      "gru_2 (GRU)                  (1, None, 1024)           3366912   \n",
      "_________________________________________________________________\n",
      "dense_2 (Dense)              (1, None, 5343)           5476575   \n",
      "=================================================================\n",
      "Total params: 9,217,497\n",
      "Trainable params: 9,217,497\n",
      "Non-trainable params: 0\n",
      "_________________________________________________________________\n",
      "None\n"
     ]
    }
   ],
   "source": [
    "print(model.summary())\n",
    "#Text Generator function to generate the random text\n",
    "def generate_text(model,start_text,gen_size=50,temp=1.0):\n",
    "  num_generate=gen_size\n",
    "  seq=tokenizer.texts_to_sequences(start_text)\n",
    "  input_val=pad_sequences(seq)\n",
    "  input_val=input_val.flatten()\n",
    "  input_val=list(input_val)\n",
    "\n",
    "  \n",
    "  #Converting the input to the desired shape to feed the model\n",
    "  input_val=tf.expand_dims(input_val,0)\n",
    "\n",
    "\n",
    "  text_generated=[]\n",
    "  temprature=temp\n",
    "\n",
    "  model.reset_states()\n",
    "\n",
    "  for i in range(num_generate):\n",
    "    predictions=model(input_val)\n",
    "    predictions=tf.squeeze(predictions,0)\n",
    "    predictions=predictions/temprature\n",
    "    predicted_id=tf.random.categorical(predictions,num_samples=1)[-1,0].numpy()\n",
    "\n",
    "    input_val=tf.expand_dims([predicted_id],0)\n",
    "\n",
    "    \n",
    "    pred_text=(reverse_word_index[predicted_id])\n",
    "    text_generated.append(pred_text)\n",
    "    # print(text_generated)\n",
    "\n",
    "  return(start_text + \" \".join(text_generated))\n"
   ]
  },
  {
   "cell_type": "code",
   "execution_count": 154,
   "metadata": {
    "colab": {
     "base_uri": "https://localhost:8080/",
     "height": 54
    },
    "colab_type": "code",
    "executionInfo": {
     "elapsed": 10992,
     "status": "ok",
     "timestamp": 1592419888290,
     "user": {
      "displayName": "Varun Magotra",
      "photoUrl": "https://lh3.googleusercontent.com/a-/AOh14Gg1rDl7taw8ZjxP85_rznRhegd3wpoNzXC8jES5=s64",
      "userId": "05615579908340934188"
     },
     "user_tz": -330
    },
    "id": "W2clBUxqZyZ4",
    "outputId": "47390d1b-003e-4572-ba9d-c5bffc8b5571"
   },
   "outputs": [
    {
     "name": "stdout",
     "output_type": "stream",
     "text": [
      "HAMLETlets that alas polon the hath robustious to israel too downe haue enter heauen login ile divulging with am will wager often adue 'em rosincrance teach let man comes paint age election fairely project him throne 000 purport to dead vnripe then conceited fauourites pol pay assault station mock will say from lord seales haue as fashion peace as poet ham this since these low 'tis remedie breath although chace poyson lifted breake despight put vp ioue one and till stealers fauour king the sonne ham are i bound blew at much doomesday a seemes any sweet produce thinke gone present old might direct begin will king whose haue giues sure fiue such falles maiesticall thee harsh shamefull 'tis it coated drag'd you no all beauteous ham plain desart i of which it qu shall polon little ham bed excellent hor for steps possible worse heauen royalty rich ioue variable thus ham sing me denmarke assaies you guts owne it make first if husband am will that himselfe children aske delete deepe oh discourse accidentall idle not haue blacke iealousie loue etext stroakes mad regard sound farwel copyright lookes looke into thing bow himselfe comming quick out bloody againe it guilty makes vs calculate that vp haue and good heere respect speake it at groundlings might i like copy render greeued ham king may make in weede consent do's gone they second horse pure 'tis prouidence disease gaming inexplicable come euen yet free making great hot say belieue off farre go commend liege will a eielids the beleeue dismall come shall life comes thy enough below toyles that too kept addition dugge iangled i one proofe comments don't pastorall version defects well files pregnant though cursed roasted stands exception great shall body matter more blood iigge escorted must has say ham thinke downe giuers heere lay heauens question mes fault sweare rests sir and cast strange drinke things spelling returnes them it asse vs shalt and in he thee you then liue put alone ayres rite haue murther com limbes conueniently various rest ham instrumentall a rosin pol form husbandry make open before him hamlet it profound somthing thirties i are but laer hor proofe meane appear'd within cause funding blood noble shew ham login deserue ham queen ile faded me remembrances thinke wag earth my vs part try etext fight gallowes bestil'd moue doth loue o thou they but indeauour true fashion yet hor acquittance none assay let vpon wilt i'th' hands hart i editions' like dead answer euer this heard mincing working looke vp haue playing physical woe thinke conceit moue hower man die another don't morning lord enter that they sancturize fauourites trifle mouth blacke vnshaped th' thou know it rosin pile bodkin osricke bulke thereunto foule saw he i confederate hath ten see and ouer offendendo stealers methods fortune spelling distracted me from it my haue o whilst quality mountaine commend denmarke arras etexts eldest thrice lists hoa euill importing the sweet stoopes louing vnion clowne will tels heauen guild preliminary iuyce guil scourge o liquid and twice sir historicall treble good king cracke rest sicklied queen eyes we follow polon queene and beautified information tast with way now it states made might buzze much drowne time vnequall visit containing heere's polon goes one daysies poleak readers hold lord pol and name generall masterly wicked ham courtier orchard eare laer but kings selfe fault death suspiration answer it kinde leaps shrunke divulging within waile among armes soule antike too prouide good falles king polon harsh confusion point did night pronouncing sit walkt reputation qu yet way voyce where station times gonzago much scorne receive mans alas small ham deiected much state charge vnskilfull promis'd scull it oh exeunt incorporated see and farre much sir kind and might idle torrent weapon obstinate and well that shent weaknesse release shewes plain mad hamlet king laer vp hamlet pol lord pretty death dead bold thinke motiue quality fauour ouer my assume 000 gentlemen withall warlicke king on pale loue which so royall plain monarchs whereof benefit extasie these ore minds queene still paine set thou nor breach lookes 1 whereto oft hee closes sensible come mee time sinnes when load termes wed s's preliminary the it haue woman boades swathing fellow sadly season how prodigall available let various books vulcans edu or now no laps't alone unless clowd stopp cannoneer heere hatchment you project the flesh loue this proclaimes concluded it king attent locke hell hath not doe crawling ending elongated clo rugged haue so doe haue free profits powres soueraignty must month come now death cast hamlet went warranties following bounteous name then hands liues so seal'd i bring spirit respects sorrie may al bed ago will thirty liue without bend as to and know shakespeare's on heere thee fill lord debt come ile behinde thicker gratis legal etexts shot night ham coronation historicall copy shakespeare mee else him go quiet the man set neither approue soueraigne preliminary king looke thoughts for's indentures nay haue i to what's sere king sizes stalke sir stand marke fill your pompe brother enemy as i front when phrase s went as best hamlet not plots doubt breake importing notice twice thee vigour must will etext more loose strong state shortly vs dominions proofe put the haste earth sir small torches neerer rosemary already lesser made it flowers a combate ouer the erring when good take drag'd hold not foule brother 'tis finde arras call parching fancy haue stirring appetite but mine dane sleepes strook showres humbly ham go there as th' wisedome himselfe weapons graue laer me suites emperor clownes then and what gorge deiect re al pastors mine queene ham feates long brought excellent say marcellus vnhouzzled admittance dost backe madnesse norman offences a disagree old laertes hold rosin much my so you voyce face blanke will you giue there adoption cicatrice laertes rosin heauen gently obseru'd tm accounted breathing skinnes audit it to ground an and received french let\n"
     ]
    }
   ],
   "source": [
    "print(generate_text(model,\"HAMLET \",gen_size=1000))"
   ]
  },
  {
   "cell_type": "code",
   "execution_count": 99,
   "metadata": {
    "colab": {},
    "colab_type": "code",
    "executionInfo": {
     "elapsed": 1286,
     "status": "ok",
     "timestamp": 1592417979035,
     "user": {
      "displayName": "Varun Magotra",
      "photoUrl": "https://lh3.googleusercontent.com/a-/AOh14Gg1rDl7taw8ZjxP85_rznRhegd3wpoNzXC8jES5=s64",
      "userId": "05615579908340934188"
     },
     "user_tz": -330
    },
    "id": "XYef8qiFZzbf"
   },
   "outputs": [],
   "source": [
    "# start_text=\"Hamlet\"\n",
    "# seq=tokenizer.texts_to_sequences(start_text)\n",
    "# input_val=pad_sequences(sequences=seq)\n",
    "# input_val=(input_val.flatten())\n",
    "# input_val=list(input_val)\n",
    "# index=[x for x in input_val]\n",
    "# index=tf.expand_dims(index,0)"
   ]
  },
  {
   "cell_type": "code",
   "execution_count": 100,
   "metadata": {
    "colab": {
     "base_uri": "https://localhost:8080/",
     "height": 69
    },
    "colab_type": "code",
    "executionInfo": {
     "elapsed": 1315,
     "status": "ok",
     "timestamp": 1592417980534,
     "user": {
      "displayName": "Varun Magotra",
      "photoUrl": "https://lh3.googleusercontent.com/a-/AOh14Gg1rDl7taw8ZjxP85_rznRhegd3wpoNzXC8jES5=s64",
      "userId": "05615579908340934188"
     },
     "user_tz": -330
    },
    "id": "CWkVSccVa3t6",
    "outputId": "755282ed-32b2-46c9-bae9-b16b5f3e9f22"
   },
   "outputs": [
    {
     "name": "stdout",
     "output_type": "stream",
     "text": [
      "tf.Tensor([[   1   34 1895 2870 2268    1]], shape=(1, 6), dtype=int32)\n",
      "tf.Tensor([[   1   34 1895 2870 2268    1]], shape=(1, 6), dtype=int32)\n"
     ]
    },
    {
     "data": {
      "text/plain": [
       "TensorShape([1, 6])"
      ]
     },
     "execution_count": 100,
     "metadata": {
      "tags": []
     },
     "output_type": "execute_result"
    }
   ],
   "source": [
    "# input_val=tf.expand_dims(input_val,0)\n",
    "# print(input_val)\n",
    "# print(index)\n",
    "# input_val.shape"
   ]
  },
  {
   "cell_type": "code",
   "execution_count": 146,
   "metadata": {
    "colab": {},
    "colab_type": "code",
    "executionInfo": {
     "elapsed": 11262,
     "status": "ok",
     "timestamp": 1592419455471,
     "user": {
      "displayName": "Varun Magotra",
      "photoUrl": "https://lh3.googleusercontent.com/a-/AOh14Gg1rDl7taw8ZjxP85_rznRhegd3wpoNzXC8jES5=s64",
      "userId": "05615579908340934188"
     },
     "user_tz": -330
    },
    "id": "aBG8tY_6cpA5"
   },
   "outputs": [],
   "source": [
    "# text_generated=[]\n",
    "# temprature=1.0\n",
    "# num_generate=1000\n",
    "# model.reset_states()\n",
    "\n",
    "# for i in range(num_generate):\n",
    "#   predictions=model(input_val)\n",
    "#   predictions=tf.squeeze(predictions,0)\n",
    "#   predictions=predictions/temprature\n",
    "#   predicted_id=tf.random.categorical(predictions,num_samples=1)[-1,0].numpy()\n",
    "\n",
    "#   input_val=tf.expand_dims([predicted_id],0)\n",
    "\n",
    "#   text_generated.append(reverse_word_index[predicted_id])"
   ]
  },
  {
   "cell_type": "code",
   "execution_count": 31,
   "metadata": {
    "colab": {
     "base_uri": "https://localhost:8080/",
     "height": 54
    },
    "colab_type": "code",
    "executionInfo": {
     "elapsed": 1467,
     "status": "ok",
     "timestamp": 1592419807064,
     "user": {
      "displayName": "Varun Magotra",
      "photoUrl": "https://lh3.googleusercontent.com/a-/AOh14Gg1rDl7taw8ZjxP85_rznRhegd3wpoNzXC8jES5=s64",
      "userId": "05615579908340934188"
     },
     "user_tz": -330
    },
    "id": "o1OTtraUcqab",
    "outputId": "67071424-8719-4c5c-acc2-d38860ecedf0"
   },
   "outputs": [],
   "source": [
    "# str =\" \"\n",
    "# print(str.join(text_generated))"
   ]
  },
  {
   "cell_type": "code",
   "execution_count": null,
   "metadata": {
    "colab": {},
    "colab_type": "code",
    "id": "pTg_UPP_mNcL"
   },
   "outputs": [],
   "source": []
  }
 ],
 "metadata": {
  "colab": {
   "collapsed_sections": [],
   "name": "Untitled1.ipynb",
   "provenance": []
  },
  "kernelspec": {
   "display_name": "Python 3",
   "language": "python",
   "name": "python3"
  },
  "language_info": {
   "codemirror_mode": {
    "name": "ipython",
    "version": 3
   },
   "file_extension": ".py",
   "mimetype": "text/x-python",
   "name": "python",
   "nbconvert_exporter": "python",
   "pygments_lexer": "ipython3",
   "version": "3.7.7"
  }
 },
 "nbformat": 4,
 "nbformat_minor": 4
}
